{
 "cells": [
  {
   "cell_type": "markdown",
   "id": "0625e414",
   "metadata": {},
   "source": [
    "# Evaluation Metric"
   ]
  },
  {
   "cell_type": "markdown",
   "id": "7f91058e",
   "metadata": {},
   "source": [
    "For Classification Problem:\n",
    "I choose F1 score because it is the combination of Precision and Recall.\n",
    "\n",
    "For Regression problem:\n",
    "I choose MAE because MSE give the value in square of the unit of the uni of the data which is not good for comparision in data science models and RMSE calculate based on the difference so provide same values if two different data has same difference. We can also choose R square or adjusted R square."
   ]
  },
  {
   "cell_type": "code",
   "execution_count": null,
   "id": "de757ca9",
   "metadata": {},
   "outputs": [],
   "source": []
  }
 ],
 "metadata": {
  "kernelspec": {
   "display_name": "Python 3 (ipykernel)",
   "language": "python",
   "name": "python3"
  },
  "language_info": {
   "codemirror_mode": {
    "name": "ipython",
    "version": 3
   },
   "file_extension": ".py",
   "mimetype": "text/x-python",
   "name": "python",
   "nbconvert_exporter": "python",
   "pygments_lexer": "ipython3",
   "version": "3.9.13"
  }
 },
 "nbformat": 4,
 "nbformat_minor": 5
}
